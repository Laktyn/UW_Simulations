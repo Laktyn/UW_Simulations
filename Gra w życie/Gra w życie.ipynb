{
 "cells": [
  {
   "cell_type": "code",
   "execution_count": 2,
   "metadata": {},
   "outputs": [],
   "source": [
    "import numpy as np\n",
    "import matplotlib.pyplot as plt\n",
    "from matplotlib import colors\n",
    "import matplotlib.animation as ani"
   ]
  },
  {
   "cell_type": "code",
   "execution_count": 24,
   "metadata": {},
   "outputs": [
    {
     "data": {
      "image/png": "[encoded data removed]",
      "text/plain": [
       "<Figure size 640x480 with 1 Axes>"
      ]
     },
     "metadata": {},
     "output_type": "display_data"
    },
    {
     "data": {
      "image/png": "[encoded data removed]",
      "text/plain": [
       "<Figure size 640x480 with 1 Axes>"
      ]
     },
     "metadata": {},
     "output_type": "display_data"
    }
   ],
   "source": [
    "# empty space\n",
    "\n",
    "space = np.zeros([50, 50])\n",
    "\n",
    "# glider\n",
    "\n",
    "glider = space.copy()\n",
    "glider[23:26, 25] = 1\n",
    "glider[25, 26] = 1\n",
    "glider[24, 27] = 1\n",
    "\n",
    "# tumbler\n",
    "\n",
    "tumbler = space.copy()\n",
    "tumbler[22:27, 24] = 1\n",
    "tumbler[22:27, 26] = 1\n",
    "tumbler[22:24, 23] = 1\n",
    "tumbler[22:24, 27] = 1\n",
    "tumbler[25:28, 28] = 1\n",
    "tumbler[25:28, 22] = 1\n",
    "tumbler[27, 23] = 1\n",
    "tumbler[27, 27] = 1\n",
    "\n",
    "# diehard\n",
    "\n",
    "diehard = space.copy()\n",
    "diehard[25, 21:23] = 1\n",
    "diehard[24, 22] = 1\n",
    "diehard[24, 26:29] = 1\n",
    "diehard[26, 27] = 1\n",
    "\n",
    "# immortal\n",
    "\n",
    "immortal = space.copy()\n",
    "immortal[22, 21] = 1\n",
    "immortal[22:24, 23] = 1\n",
    "immortal[24:27, 25] = 1\n",
    "immortal[25:28, 27] = 1\n",
    "immortal[26, 28] = 1\n",
    "\n",
    "# pulsar\n",
    "\n",
    "pulsar = space.copy()\n",
    "pulsar[24, 21:24] = 1\n",
    "pulsar[21:24, 24] = 1\n",
    "pulsar[19, 21:24] = 1\n",
    "pulsar[21:24, 19] = 1\n",
    "\n",
    "pulsar += np.roll(np.rot90(pulsar, 1), shift = 1, axis = 0)\n",
    "pulsar += np.roll(np.rot90(pulsar, 2), shift = (1, 1), axis = (0, 1))\n",
    "pulsar += np.roll(np.rot90(pulsar, 3), shift = 1, axis = 1)\n",
    "pulsar[pulsar == 2] = 1\n",
    "\n",
    "# collision\n",
    "\n",
    "collision = np.roll(glider, shift = (-10, 10), axis = (0, 1)) + np.roll(tumbler, shift = (10, -10), axis = (0, 1))\n",
    "\n",
    "# bombing\n",
    "\n",
    "bombing = space.copy()\n",
    "bombing += np.roll(pulsar, shift = (15, -15), axis = (0,1))\n",
    "bombing += np.roll(glider, shift = (-15, +15), axis = (0,1))\n",
    "bombing += np.roll(glider, shift = (-19, +11), axis = (0,1))\n",
    "bombing += np.roll(glider, shift = (-11, +19), axis = (0,1))\n",
    "\n",
    "# let's choose object type\n",
    "\n",
    "board = bombing\n",
    "\n",
    "# single step function\n",
    "\n",
    "def step(board):\n",
    "    new_board = board.copy()\n",
    "    new_board += 9 * board\n",
    "    for i in [-1, 0, 1]:\n",
    "        for j in [-1, 0, 1]:\n",
    "            new_board += np.roll(board, shift = (i, j), axis = (0, 1))\n",
    "\n",
    "    new_board[new_board == 3] = 20\n",
    "    new_board[new_board == 13] = 20\n",
    "    new_board[new_board == 14] = 20\n",
    "    new_board[new_board < 20] = 0\n",
    "    new_board[new_board == 20] = 1\n",
    "\n",
    "    return new_board\n",
    "\n",
    "plt.imshow(board)\n",
    "plt.show()\n",
    "\n",
    "# declare animation function\n",
    "\n",
    "cmap = colors.ListedColormap(['black', 'lime'])\n",
    "bounds = [0, 1, 2]\n",
    "norm = colors.BoundaryNorm(bounds, cmap.N)\n",
    "\n",
    "fig = plt.figure()\n",
    "im = plt.imshow(board, interpolation = 'none', cmap = cmap, norm = norm)\n",
    "im.axes.get_xaxis().set_visible(False)\n",
    "im.axes.get_yaxis().set_visible(False)\n",
    "im.axes.set_title(\"Eskadra\")\n",
    "\n",
    "def init():\n",
    "    im.set_data(board)\n",
    "    return im,\n",
    "\n",
    "def animate(i):\n",
    "    board = im.get_array()\n",
    "    board = step(board) \n",
    "    im.set_array(board)\n",
    "    return im,\n",
    "\n",
    "# animate and save it\n",
    "\n",
    "anim = ani.FuncAnimation(fig, animate, frames = 350, interval = 200, blit = 'True')\n",
    "anim.save('Eskadra.gif', writer = 'ffmpeg', fps = 10)"
   ]
  }
 ],
 "metadata": {
  "kernelspec": {
   "display_name": "Python 3",
   "language": "python",
   "name": "python3"
  },
  "language_info": {
   "codemirror_mode": {
    "name": "ipython",
    "version": 3
   },
   "file_extension": ".py",
   "mimetype": "text/x-python",
   "name": "python",
   "nbconvert_exporter": "python",
   "pygments_lexer": "ipython3",
   "version": "3.10.7"
  },
  "orig_nbformat": 4,
  "vscode": {
   "interpreter": {
    "hash": "301a17a29b57d3836b7901af1621afd6d2b1f2298b9c7949191147cf2fea93e3"
   }
  }
 },
 "nbformat": 4,
 "nbformat_minor": 2
}
